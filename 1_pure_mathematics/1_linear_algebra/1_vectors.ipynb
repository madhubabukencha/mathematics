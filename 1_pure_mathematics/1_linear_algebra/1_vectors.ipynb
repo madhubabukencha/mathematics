{
 "cells": [
  {
   "cell_type": "markdown",
   "id": "f2193346-4d20-49f7-a76d-af87746febf6",
   "metadata": {},
   "source": [
    "<p style=\"color:#153462; \n",
    "          font-weight: bold; \n",
    "          font-size: 30px; \n",
    "          font-family: Gill Sans, sans-serif; \n",
    "          text-align: center;\">\n",
    "          Vectors</p>"
   ]
  },
  {
   "cell_type": "markdown",
   "id": "fadaedf1-fc91-4572-b863-35575ca5f6e1",
   "metadata": {},
   "source": [
    "### Vector Introduction"
   ]
  },
  {
   "cell_type": "markdown",
   "id": "cd41b4bb-9378-4c58-8398-41d88acd5f7b",
   "metadata": {},
   "source": [
    "<p style=\"text-align: justify; text-justify: inter-word;\">\n",
    "   <font size=3>\n",
    "       Vectors has both magnitude and direction. The magnitude of a vector refers to the length or size of the vector.\n",
    "       It also determines its direction.<br>\n",
    "       Below are some examples,<br>\n",
    "       * Train is moving <b>5kmph towards East direction</b>, here in this example we have both magnitude(5kmph) and direction(East)<br>\n",
    "       Plotting this vector in two dimentional graph,<br>\n",
    "       <img src=\"images\\vector_1.png\" alt=\"Vector\" style=\"width: 600px;\"/> <br>\n",
    "       To represent it mathematically,<br>\n",
    "       $\\vec{V}=(5, 0)= \\begin{bmatrix} 5 \\\\ 0 \\end{bmatrix}$ <br>\n",
    "       Similary to represent something which move both horizantally(let say east)  and vertically (let say north)<br>\n",
    "       <img src=\"images\\vector_2.png\" alt=\"Vector\" style=\"width: 600px;\"/> <br>\n",
    "       To represent it mathematically,<br>\n",
    "       $\\vec{A}=(4, 3)= \\begin{bmatrix} 4 \\\\ 3 \\end{bmatrix}$ <br>\n",
    "   </font>\n",
    "</p>"
   ]
  },
  {
   "cell_type": "markdown",
   "id": "823094fa-c32b-410e-b2a0-df095d656bf1",
   "metadata": {},
   "source": [
    "### Resource"
   ]
  },
  {
   "cell_type": "markdown",
   "id": "f2e3d4ca-c1e8-437f-94e6-27b18cd6ff89",
   "metadata": {
    "tags": []
   },
   "source": [
    "https://www.khanacademy.org/math/linear-algebra/vectors-and-spaces/vectors/v/vector-introduction-linear-algebra"
   ]
  },
  {
   "cell_type": "code",
   "execution_count": null,
   "id": "cb30aada-a3b3-41e2-a2b3-c5302aa94455",
   "metadata": {},
   "outputs": [],
   "source": []
  }
 ],
 "metadata": {
  "kernelspec": {
   "display_name": "Python 3 (ipykernel)",
   "language": "python",
   "name": "python3"
  },
  "language_info": {
   "codemirror_mode": {
    "name": "ipython",
    "version": 3
   },
   "file_extension": ".py",
   "mimetype": "text/x-python",
   "name": "python",
   "nbconvert_exporter": "python",
   "pygments_lexer": "ipython3",
   "version": "3.11.2"
  }
 },
 "nbformat": 4,
 "nbformat_minor": 5
}
