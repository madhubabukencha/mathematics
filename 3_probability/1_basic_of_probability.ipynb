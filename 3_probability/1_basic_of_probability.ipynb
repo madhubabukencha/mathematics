{
 "cells": [
  {
   "cell_type": "markdown",
   "id": "5622eab1-0a26-49e4-b9d3-f154d2a87dfa",
   "metadata": {
    "tags": []
   },
   "source": [
    "<p style=\"color:#153462; \n",
    "          font-weight: bold; \n",
    "          font-size: 30px; \n",
    "          font-family: Gill Sans, sans-serif; \n",
    "          text-align: center;\">\n",
    "          Basics of Probability</p>"
   ]
  },
  {
   "cell_type": "markdown",
   "id": "1291d288-58ef-4d63-bb0a-e9a45fa4aad2",
   "metadata": {},
   "source": [
    "### <span style=\"color:#3C4048; font-weight: bold; font-size: 18px; font-family: Gill Sans, sans-serif;\">Probability</span>"
   ]
  },
  {
   "cell_type": "markdown",
   "id": "d8451eb3-c72b-4418-98a2-3fb6643bf652",
   "metadata": {},
   "source": [
    "<p style=\"text-align: justify; text-justify: inter-word;\">\n",
    "   <font size=3>\n",
    "       <i>Probability</i> is the chance of something happening. It is a measure of how likely something is to\n",
    "       occur, given all the information that is known. For example, the probability of flipping a coin and\n",
    "       getting heads is 50%, because there are two equally likely outcomes (heads or tails).\n",
    "       <br><br>\n",
    "       Probability usually measured in the scale of 0 to 1. Therefore it include any value from 0, 0.1, ..., 1.\n",
    "       where 0 indicates there is no chance of something and 1 indicates you absolutely certain about something\n",
    "       happening.       \n",
    "   </font>\n",
    "</p>"
   ]
  },
  {
   "cell_type": "markdown",
   "id": "1e9bc2f4-3f1f-46ab-86be-e117be3f0ed8",
   "metadata": {},
   "source": [
    "### <span style=\"color:#3C4048; font-weight: bold; font-size: 18px; font-family: Gill Sans, sans-serif;\">Likelihood</span>"
   ]
  },
  {
   "cell_type": "markdown",
   "id": "9480c1f4-4049-4321-b5c2-c1447f03ad87",
   "metadata": {},
   "source": [
    "<p style=\"text-align: justify; text-justify: inter-word;\">\n",
    "   <font size=3>\n",
    "       <i>Likelihood</i> and <i>Probability</i> are seems like similar words but both are different scales of measures.\n",
    "       It indicates how likely a particular population is to produce an observed sample.<br>\n",
    "       Examples:<br>\n",
    "       <ul>\n",
    "           <li>\"There is a high likelihood of a snowstorm tomorrow.\"\n",
    "               <ul>\n",
    "                   <li>This statement suggests that the probability of a snowstorm is very high, based on\n",
    "                       current weather forecasts and historical data.\n",
    "                   </li>\n",
    "               </ul>\n",
    "           </li>\n",
    "       </ul>\n",
    "       <ul>\n",
    "           <li>\"The doctor thinks there is a low likelihood of cancer based on the test results.\"\n",
    "               <ul>\n",
    "                   <li>\n",
    "                       This statement indicates that the probability of cancer is relatively small, based on the\n",
    "                       medical examination and diagnostic tests.\n",
    "                   </li>\n",
    "               </ul>\n",
    "           </li>\n",
    "       </ul>\n",
    "       <ul>\n",
    "           <li>\"The stock market analysts believe there is a medium likelihood of a market crash in the next few months.\"\n",
    "               <ul>\n",
    "                   <li>\n",
    "                      This statement suggests that the probability of a market crash is moderate, based on \n",
    "                       economic indicators and market trends. \n",
    "                   </li>\n",
    "               </ul>\n",
    "           </li>\n",
    "       </ul>\n",
    "   </font>\n",
    "</p>"
   ]
  },
  {
   "cell_type": "markdown",
   "id": "d3e4ef73-e71c-4f67-8906-db3f3bb59eaf",
   "metadata": {},
   "source": [
    "### <span style=\"color:#3C4048; font-weight: bold; font-size: 18px; font-family: Gill Sans, sans-serif;\">Basic Probability Notations</span>"
   ]
  },
  {
   "cell_type": "markdown",
   "id": "5b23ba90-26fc-4f9d-85ce-917bf6393641",
   "metadata": {},
   "source": [
    "<p style=\"text-align: justify; text-justify: inter-word;\">\n",
    "   <font size=3>\n",
    "       $P(x)$ represents probability $\"P\"$ of the event $\"x\"$. For example, probability of the an event head when we toss\n",
    "       a coin is 0.5. We can represent it as $P(x) = 0.5$\n",
    "   </font>\n",
    "</p>\n",
    " "
   ]
  },
  {
   "cell_type": "code",
   "execution_count": null,
   "id": "d0b2db27-4207-413b-aa7f-9c569f71fc41",
   "metadata": {},
   "outputs": [],
   "source": []
  }
 ],
 "metadata": {
  "kernelspec": {
   "display_name": "Python 3 (ipykernel)",
   "language": "python",
   "name": "python3"
  },
  "language_info": {
   "codemirror_mode": {
    "name": "ipython",
    "version": 3
   },
   "file_extension": ".py",
   "mimetype": "text/x-python",
   "name": "python",
   "nbconvert_exporter": "python",
   "pygments_lexer": "ipython3",
   "version": "3.11.2"
  }
 },
 "nbformat": 4,
 "nbformat_minor": 5
}
