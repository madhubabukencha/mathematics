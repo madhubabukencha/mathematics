{
 "cells": [
  {
   "cell_type": "markdown",
   "id": "5622eab1-0a26-49e4-b9d3-f154d2a87dfa",
   "metadata": {
    "tags": []
   },
   "source": [
    "<p style=\"color:#153462; \n",
    "          font-weight: bold; \n",
    "          font-size: 30px; \n",
    "          font-family: Gill Sans, sans-serif; \n",
    "          text-align: center;\">\n",
    "          Basics of Probability</p>"
   ]
  },
  {
   "cell_type": "markdown",
   "id": "1291d288-58ef-4d63-bb0a-e9a45fa4aad2",
   "metadata": {},
   "source": [
    "### <span style=\"color:#3C4048; font-weight: bold; font-size: 18px; font-family: Gill Sans, sans-serif;\">Probability</span>"
   ]
  },
  {
   "cell_type": "markdown",
   "id": "d8451eb3-c72b-4418-98a2-3fb6643bf652",
   "metadata": {},
   "source": [
    "<p style=\"text-align: justify; text-justify: inter-word;\">\n",
    "   <font size=3>\n",
    "       <i>Probability</i> is the chance of something happening. It is a measure of how likely something is to\n",
    "       occur, given all the information that is known. For example, the probability of flipping a coin and\n",
    "       getting heads is 50%, because there are two equally likely outcomes (heads or tails).\n",
    "       <br><br>\n",
    "       Probability usually measured in the scale of 0 to 1. Therefore it include any value from 0, 0.1, ..., 1.\n",
    "       where 0 indicates there is no chance of something and 1 indicates you absolutely certain about something\n",
    "       happening.\n",
    "       <br><br>\n",
    "       Probability widely used in Machine Learning domain for example for Model Training, Model Evaluation and Hyper Parameter Optimization. \n",
    "   </font>\n",
    "</p>"
   ]
  },
  {
   "cell_type": "markdown",
   "id": "1e9bc2f4-3f1f-46ab-86be-e117be3f0ed8",
   "metadata": {},
   "source": [
    "### <span style=\"color:#3C4048; font-weight: bold; font-size: 18px; font-family: Gill Sans, sans-serif;\">Likelihood</span>"
   ]
  },
  {
   "cell_type": "markdown",
   "id": "9480c1f4-4049-4321-b5c2-c1447f03ad87",
   "metadata": {},
   "source": [
    "<p style=\"text-align: justify; text-justify: inter-word;\">\n",
    "   <font size=3>\n",
    "       <i>Likelihood</i> and <i>Probability</i> are seems like similar words but both are different scales of measures.\n",
    "       It indicates how likely a particular population is to produce an observed sample.<br>\n",
    "       Examples:<br>\n",
    "       <ul>\n",
    "           <li>\"There is a high likelihood of a snowstorm tomorrow.\"\n",
    "               <ul>\n",
    "                   <li>This statement suggests that the probability of a snowstorm is very high, based on\n",
    "                       current weather forecasts and historical data.\n",
    "                   </li>\n",
    "               </ul>\n",
    "           </li>\n",
    "       </ul>\n",
    "       <ul>\n",
    "           <li>\"The doctor thinks there is a low likelihood of cancer based on the test results.\"\n",
    "               <ul>\n",
    "                   <li>\n",
    "                       This statement indicates that the probability of cancer is relatively small, based on the\n",
    "                       medical examination and diagnostic tests.\n",
    "                   </li>\n",
    "               </ul>\n",
    "           </li>\n",
    "       </ul>\n",
    "       <ul>\n",
    "           <li>\"The stock market analysts believe there is a medium likelihood of a market crash in the next few months.\"\n",
    "               <ul>\n",
    "                   <li>\n",
    "                      This statement suggests that the probability of a market crash is moderate, based on \n",
    "                       economic indicators and market trends. \n",
    "                   </li>\n",
    "               </ul>\n",
    "           </li>\n",
    "       </ul>\n",
    "   </font>\n",
    "</p>"
   ]
  },
  {
   "cell_type": "markdown",
   "id": "d3e4ef73-e71c-4f67-8906-db3f3bb59eaf",
   "metadata": {},
   "source": [
    "### <span style=\"color:#3C4048; font-weight: bold; font-size: 18px; font-family: Gill Sans, sans-serif;\">Basic Probability Notations</span>"
   ]
  },
  {
   "cell_type": "markdown",
   "id": "5b23ba90-26fc-4f9d-85ce-917bf6393641",
   "metadata": {},
   "source": [
    "<p style=\"text-align: justify; text-justify: inter-word;\">\n",
    "   <font size=3>\n",
    "       <ul>\n",
    "           <li>\n",
    "               $P(x)$ represents probability $\"P\"$ of the event $\"x\"$. For example, probability of the an event\n",
    "               head when we toss a coin is 0.5. We can represent it as $P(x) = 0.5$\n",
    "           </li>\n",
    "           <li>\n",
    "               The probability of the event P(E) is calculated using the formula:<br><br>\n",
    "               $P(E)=\\frac{(Number \\hspace{0.1cm} of \\hspace{0.1cm} Favourable \\hspace{0.1cm} outcome)}{(Total\\hspace{0.1cm} Number\\hspace{0.1cm} of \\hspace{0.1cm}outcomes)}=\\frac{n(E)}{n(S)}$<br>\n",
    "               Where,<br>\n",
    "               <ul>\n",
    "                   <li><b>n(E)</b>, is the cardinality of the event</li>\n",
    "                   <li><b>n(S)</b>, is the cardinality of the Sample Space</li>\n",
    "                   <li><b>Cardinality</b> means number of elements</li>\n",
    "               </ul>\n",
    "           </li>\n",
    "           <li>\n",
    "               The probability of all possible events sums to the probability value one\n",
    "           </li>\n",
    "           <li>\n",
    "               $P(E^{'})$, represents the probability of the not happening of the event.\n",
    "           </li>\n",
    "       </ul>\n",
    "   </font>\n",
    "</p>\n",
    " "
   ]
  },
  {
   "cell_type": "markdown",
   "id": "f0840d07-d11d-4384-8d88-04c8bacd3a71",
   "metadata": {},
   "source": [
    "### <span style=\"color:#3C4048; font-weight: bold; font-size: 18px; font-family: Gill Sans, sans-serif;\">Common Terminology</span>\n",
    "We will see some of the common terminology used in Probability."
   ]
  },
  {
   "cell_type": "markdown",
   "id": "ab0f2a90-23f0-4521-aecf-4e1fe61df2fd",
   "metadata": {},
   "source": [
    "#### <span style=\"color:#3C4048; font-weight: bold; font-size: 18px; font-family: Gill Sans, sans-serif;\">Experiment</span>"
   ]
  },
  {
   "cell_type": "markdown",
   "id": "d3568c98-7a63-4909-b831-f39abd1f7242",
   "metadata": {},
   "source": [
    "<p style=\"text-align: justify; text-justify: inter-word;\">\n",
    "   <font size=3>\n",
    "       A test we want to perform in order to calculate the probability of each possible outcome.<br>\n",
    "       Example are:<br>\n",
    "       <ul>\n",
    "           <li>Flipping a Coin</li>\n",
    "           <li>Rolling Dice</li>\n",
    "           <li>Picking a Card</li>\n",
    "       </ul>\n",
    "   </font>\n",
    "</p>"
   ]
  },
  {
   "cell_type": "markdown",
   "id": "96d38f52-2713-40de-8b24-d2f218dea840",
   "metadata": {},
   "source": [
    "<p style=\"text-align: justify; text-justify: inter-word;\">\n",
    "   <font size=3>\n",
    "       Below is the definition of an <i>Experiment</i> in terms of Machine Learning:<br>\n",
    "       <i>\n",
    "           As normally defined, an Experiment involves systematically varying one or more independent variables and experimenting effect on some dependent variable. Thus, a machine learning experiment requires more than a single learning run. it requires a number of runs carried out under different conditions.\n",
    "       </i>\n",
    "   </font>\n",
    "</p>"
   ]
  },
  {
   "cell_type": "markdown",
   "id": "7818b11f-dc9b-4a83-9e91-5d51394a5488",
   "metadata": {},
   "source": [
    "#### <span style=\"color:#3C4048; font-weight: bold; font-size: 18px; font-family: Gill Sans, sans-serif;\">Sample Space</span>"
   ]
  },
  {
   "cell_type": "markdown",
   "id": "5a7b2b03-a375-47fe-8690-9d3a1ae3c54c",
   "metadata": {},
   "source": [
    "<p style=\"text-align: justify; text-justify: inter-word;\">\n",
    "   <font size=3>\n",
    "       All possible outcomes of an experiment can be represented as set which is called <i>Sample Space</i> and it is denoted with capital letter \"S\".\n",
    "   </font>\n",
    "</p>"
   ]
  },
  {
   "cell_type": "markdown",
   "id": "fef04bf7-ef64-4233-a09a-0cee91c59123",
   "metadata": {},
   "source": [
    "<p style=\"text-align: justify; text-justify: inter-word;\">\n",
    "   <font size=3>\n",
    "    Below are the examples:\n",
    "    <ul>\n",
    "        <li>If we flip a coin we gets heads or tails, $S= \\{heads, tails\\}$</li>\n",
    "        <li>When we roll a dice sample space comes out as 1 to 6 $S=\\{1, 2, 3, 4, 5, 6\\}$</li>\n",
    "    </ul>\n",
    "   </font>\n",
    "</p>\n"
   ]
  },
  {
   "cell_type": "markdown",
   "id": "63397055-3dac-4ef4-ad82-307536cbd6ac",
   "metadata": {},
   "source": [
    "#### <span style=\"color:#3C4048; font-weight: bold; font-size: 18px; font-family: Gill Sans, sans-serif;\">Event</span>"
   ]
  },
  {
   "cell_type": "markdown",
   "id": "f79d66d6-de17-4b40-9d38-b449f7e07df5",
   "metadata": {},
   "source": [
    "<p style=\"text-align: justify; text-justify: inter-word;\">\n",
    "   <font size=3>\n",
    "       In probability theory, an \"event\" refers to a specific outcome or a set of outcomes of an experiment or random process. More formally, an event is a subset of the sample space, which is the set of all possible outcomes of the experiment. Usually it is denoted with \"E\".<br>\n",
    "       Below are the examples:<br>\n",
    "    <ul>\n",
    "      <li>\n",
    "        Coin Toss:\n",
    "        <ul>\n",
    "          <li>Event: Getting heads when flipping a fair coin.</li>\n",
    "          <li>Event: Getting tails when flipping a fair coin.</li>\n",
    "        </ul>\n",
    "      </li>\n",
    "      <li>\n",
    "        Dice Roll:\n",
    "        <ul>\n",
    "          <li>Event: Rolling a 6 on a fair six-sided die.</li>\n",
    "          <li>Event: Rolling an odd number on a fair six-sided die.</li>\n",
    "        </ul>\n",
    "      </li>\n",
    "      <li>\n",
    "        Card Drawing:\n",
    "        <ul>\n",
    "          <li>Event: Drawing an ace from a standard deck of 52 playing cards.</li>\n",
    "          <li>Event: Drawing a heart from a standard deck of 52 playing cards.</li>\n",
    "        </ul>\n",
    "      </li>\n",
    "    </ul>\n",
    "\n",
    "   </font>\n",
    "</p>"
   ]
  },
  {
   "cell_type": "markdown",
   "id": "4e83b9fa-6601-43a4-8c21-c8c2c5b7c6f4",
   "metadata": {},
   "source": [
    "### <span style=\"color:#3C4048; font-weight: bold; font-size: 18px; font-family: Gill Sans, sans-serif;\">Questions</span>"
   ]
  },
  {
   "cell_type": "markdown",
   "id": "54bf73af-bd95-42c4-8364-99c449fbcd47",
   "metadata": {},
   "source": [
    "<p style=\"text-align: justify; text-justify: inter-word;\">\n",
    "   <font size=3>\n",
    "       <b>Problem-1:</b><br>\n",
    "       Calculate the probability of getting heads<br>\n",
    "       <b>Solution:</b><br>\n",
    "       $S=\\{heads, tails\\}$<br>\n",
    "       $E=\\{heads\\}$<br>\n",
    "       $n(S)=2, n(E)=1$<br>\n",
    "       $P(E)=\\frac{n(E)}{n(S)}=\\frac{1}{2}=0.5$\n",
    "   </font>\n",
    "</p>"
   ]
  },
  {
   "cell_type": "markdown",
   "id": "2f192db9-1484-4535-b645-4f371024b2da",
   "metadata": {
    "tags": []
   },
   "source": [
    "<br>**Problem-2:** <br>\n",
    "You roll two six-sided dice. Calculate the probability of the following events:\n",
    "\n",
    "- **Event A:** Getting a sum of 7.\n",
    "- **Event B:** Getting an even number on the first die and a 4 on the second die.\n",
    "\n",
    "**Solution:**\n",
    "\n",
    "1. **Determine the Total Number of Possible Outcomes:**\n",
    "   - Each die has 6 faces, so there are \\(6 \\times 6 = 36\\) possible outcomes when rolling two dice.\n",
    "\n",
    "2. **Event A - Getting a Sum of 7:**\n",
    "   - There are six ways to get a sum of 7: (1,6), (2,5), (3,4), (4,3), (5,2), (6,1).\n",
    "   - Probability of getting a sum of 7 = Number of favorable outcomes / Total number of possible outcomes = 6/36 = 1/6.\n",
    "  \n",
    "\n",
    "3. **Event B - Getting an Even Number on the First Die and a 4 on the Second Die:**\n",
    "   - There are three ways to get an even number on the first die (2, 4, or 6), and only one way to get a 4 on the second die.\n",
    "    - In probability, when you have two independent events A and B, the probability of both events occurring is found by multiplying the probabilities of each event. This is known as the multiplication rule for independent events.\n",
    "   - Probability of getting an even number on the first die and a 4 on the second die = Number of favorable outcomes / Total number of possible outcomes = (3 * 1) / 36 = 3/36 = 1/12.\n",
    "\n",
    "**Final Combined Probability for Events A and B:**\n",
    "   - Probability of Event A and then Event B = Probability of Event A * Probability of Event B\n",
    "   - $P(A \\cap B) = P(A) \\times P(B) = \\frac{1}{6} \\times \\frac{1}{12} = \\frac{1}{72}$\n",
    "\n",
    "So, the probability of getting a sum of 7 and then getting an even number on the first die and a 4 on the second die is $ \\frac{1}{72}$ when rolling two six-sided dice."
   ]
  },
  {
   "cell_type": "code",
   "execution_count": null,
   "id": "f9e2092a-638d-428e-bf3d-0e02c5bbbb81",
   "metadata": {},
   "outputs": [],
   "source": []
  }
 ],
 "metadata": {
  "kernelspec": {
   "display_name": "Python 3 (ipykernel)",
   "language": "python",
   "name": "python3"
  },
  "language_info": {
   "codemirror_mode": {
    "name": "ipython",
    "version": 3
   },
   "file_extension": ".py",
   "mimetype": "text/x-python",
   "name": "python",
   "nbconvert_exporter": "python",
   "pygments_lexer": "ipython3",
   "version": "3.11.2"
  }
 },
 "nbformat": 4,
 "nbformat_minor": 5
}
