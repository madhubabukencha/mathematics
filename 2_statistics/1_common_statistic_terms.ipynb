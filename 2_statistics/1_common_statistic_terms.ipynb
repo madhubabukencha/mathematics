{
 "cells": [
  {
   "cell_type": "markdown",
   "id": "1332cd7b",
   "metadata": {},
   "source": [
    "<p style=\"color:#153462; \n",
    "          font-weight: bold; \n",
    "          font-size: 30px; \n",
    "          font-family: Gill Sans, sans-serif; \n",
    "          text-align: center;\">\n",
    "          Commonly used Statistics Terms</p>"
   ]
  },
  {
   "cell_type": "markdown",
   "id": "103db4e0",
   "metadata": {},
   "source": [
    "<p style=\"text-align: justify; text-justify: inter-word;\">\n",
    "   <font size=3>\n",
    "       In this notebook, we will learn about most commonly used statistical terms. I will also include <i>Python</i>\n",
    "       snippets where ever it is need.\n",
    "   </font>\n",
    "</p>"
   ]
  },
  {
   "cell_type": "code",
   "execution_count": 1,
   "id": "25d398e7",
   "metadata": {
    "tags": []
   },
   "outputs": [],
   "source": [
    "import statistics\n",
    "import numpy as np"
   ]
  },
  {
   "cell_type": "markdown",
   "id": "b26fdcbd",
   "metadata": {},
   "source": [
    "#### Central Tendency\n",
    "<p style=\"text-align: justify; text-justify: inter-word;\">\n",
    "   <font size=3>\n",
    "       Measure of Central Tendency helps us to find the middle or average of a dataset. To measure <i> Central Tendency</i> we commonly use <i>Mode</i>, <i>Median</i> and <i> Mean </i>.\n",
    "   </font>\n",
    "</p>\n"
   ]
  },
  {
   "cell_type": "markdown",
   "id": "325f6bd0",
   "metadata": {},
   "source": [
    "#### Mode\n",
    "<p style=\"text-align: justify; text-justify: inter-word;\">\n",
    "   <font size=3>\n",
    "       The <i>Mode</i> or <i> Modal </i> value of a dataset is the word/number/element which is frequently occuring on the dataset.\n",
    "   </font>\n",
    "</p>\n"
   ]
  },
  {
   "cell_type": "code",
   "execution_count": 2,
   "id": "a6856655",
   "metadata": {
    "tags": []
   },
   "outputs": [
    {
     "data": {
      "text/plain": [
       "45"
      ]
     },
     "execution_count": 2,
     "metadata": {},
     "output_type": "execute_result"
    }
   ],
   "source": [
    "# Finding mode value\n",
    "data = [12, 23, 34, 45, 12, 1, 0, 45, 45]\n",
    "# In the above dataset 45 is most repeating value\n",
    "statistics.mode(data)"
   ]
  },
  {
   "cell_type": "code",
   "execution_count": 3,
   "id": "fb49849b",
   "metadata": {
    "tags": []
   },
   "outputs": [
    {
     "data": {
      "text/plain": [
       "'India'"
      ]
     },
     "execution_count": 3,
     "metadata": {},
     "output_type": "execute_result"
    }
   ],
   "source": [
    "countries = [\"India\", \"Japan\", \"America\", \"America\", \"India\", \"Mexico\"]\n",
    "statistics.mode(countries)"
   ]
  },
  {
   "cell_type": "markdown",
   "id": "df7ab857",
   "metadata": {},
   "source": [
    "<strong> References: </strong> <br>\n",
    "https://www.scribbr.com/statistics/mode/"
   ]
  },
  {
   "cell_type": "markdown",
   "id": "d497285d",
   "metadata": {},
   "source": [
    "#### Median\n",
    "<p style=\"text-align: justify; text-justify: inter-word;\">\n",
    "   <font size=3>\n",
    "       The Median is a value that is exactly in the middle of a dataset when it is ordered (Order the values\n",
    "       from low to high). But ordering dataset is optional. It's main goal is finding the middle value of the \n",
    "       dataset. It’s a measure of central tendency that separates the lowest 50% from the highest when it is\n",
    "       ordered in acending order.\n",
    "       50% of values.\n",
    "   </font>\n",
    "</p>\n"
   ]
  },
  {
   "cell_type": "markdown",
   "id": "d557c542",
   "metadata": {},
   "source": [
    "<p style=\"text-align: justify; text-justify: inter-word;\">\n",
    "   <font size=3>\n",
    "       <b> Formula when dataset length is odd </b>:<br>\n",
    "        $position = \\frac{(n+1)}{2}$ <br>\n",
    "        Where, <br>\n",
    "        n, is the length of the data set <br>\n",
    "        median = sorted_data[postion]\n",
    "   </font>\n",
    "</p>\n"
   ]
  },
  {
   "cell_type": "code",
   "execution_count": 10,
   "id": "46e0b2e5",
   "metadata": {
    "tags": []
   },
   "outputs": [
    {
     "name": "stdout",
     "output_type": "stream",
     "text": [
      "Ordered Data: [1, 3, 4, 5, 6, 7, 9]\n",
      "Median: 5\n"
     ]
    }
   ],
   "source": [
    "data = sorted([3, 1, 4, 7, 5, 6, 9])\n",
    "position = (len(data)+ 1)//2\n",
    "# In python indexing or counting starts from 0, that's why we are removing 1 from position variable\n",
    "median = data[position-1]\n",
    "print(f\"Ordered Data: {data}\")\n",
    "print(f\"Median: {median}\")"
   ]
  },
  {
   "cell_type": "code",
   "execution_count": 7,
   "id": "dc49c8dd",
   "metadata": {
    "tags": []
   },
   "outputs": [
    {
     "data": {
      "text/plain": [
       "5"
      ]
     },
     "execution_count": 7,
     "metadata": {},
     "output_type": "execute_result"
    }
   ],
   "source": [
    "# you can also use statistic module\n",
    "statistics.median(data)"
   ]
  },
  {
   "cell_type": "markdown",
   "id": "58b150cf",
   "metadata": {},
   "source": [
    "<b> Formula when dataset length is even:</b><br>\n",
    "Whenever data set length is even, we need to consider mean of <i>middle element</i> and <i>middle element + 1</i> to calculate median."
   ]
  },
  {
   "cell_type": "markdown",
   "id": "65cb990f",
   "metadata": {},
   "source": [
    "$middle\\_position = (\\frac{n}{2})$"
   ]
  },
  {
   "cell_type": "markdown",
   "id": "edcdfc8c",
   "metadata": {},
   "source": [
    "$middle\\_position + 1 = (\\frac{n}{2}) + 1$"
   ]
  },
  {
   "cell_type": "markdown",
   "id": "8525e820",
   "metadata": {},
   "source": [
    "where<strong> n</strong> is total number of elements"
   ]
  },
  {
   "cell_type": "code",
   "execution_count": 15,
   "id": "cd9109e0",
   "metadata": {
    "tags": []
   },
   "outputs": [
    {
     "name": "stdout",
     "output_type": "stream",
     "text": [
      "Middle Position: 1\n",
      "Middle Position + 1: 2\n",
      "Ordered Data: [1, 3, 4, 7]\n",
      "Median: 3.5\n"
     ]
    }
   ],
   "source": [
    "data = sorted([3, 1, 4, 7])\n",
    "# substracting -1 beacuse in python length and indexing is different. Index start from 0\n",
    "middle_position = (len(data)//2) - 1\n",
    "middle_position_1 = middle_position + 1\n",
    "median = (data[middle_position] + data[middle_position_1])/2\n",
    "print(f\"Middle Position: {middle_position}\")\n",
    "print(f\"Middle Position + 1: {middle_position_1}\")\n",
    "print(F\"Ordered Data: {data}\")\n",
    "print(f\"Median: {median}\")"
   ]
  },
  {
   "cell_type": "code",
   "execution_count": 16,
   "id": "46d51b60",
   "metadata": {
    "tags": []
   },
   "outputs": [
    {
     "data": {
      "text/plain": [
       "3.5"
      ]
     },
     "execution_count": 16,
     "metadata": {},
     "output_type": "execute_result"
    }
   ],
   "source": [
    "statistics.median(data)"
   ]
  },
  {
   "cell_type": "markdown",
   "id": "a0a18c5c",
   "metadata": {},
   "source": [
    "<strong>Reference</strong><br>\n",
    "https://www.scribbr.com/statistics/median/"
   ]
  },
  {
   "cell_type": "markdown",
   "id": "3517027b",
   "metadata": {},
   "source": [
    "#### Mean"
   ]
  },
  {
   "cell_type": "markdown",
   "id": "99b15b78",
   "metadata": {},
   "source": [
    "The <i> Mean </i> means sum of all values in the dataset divided by total number of element in the dataset. This also sometimes calls <i> Arthematic Means </i> or <i>Average</i>"
   ]
  },
  {
   "cell_type": "markdown",
   "id": "94ddc93a",
   "metadata": {},
   "source": [
    "$\\bar{X} = \\frac{\\sum{X}}{N}$"
   ]
  },
  {
   "cell_type": "markdown",
   "id": "88425625",
   "metadata": {},
   "source": [
    "<ul>\n",
    "    <li>$\\bar{X}$ = Mean</li>\n",
    "    <li>$\\sum{X}$ = Sum of total elements in the dataset</li>\n",
    "    <li>N = Total number of elements</li>\n",
    "</ul>"
   ]
  },
  {
   "cell_type": "code",
   "execution_count": 17,
   "id": "63164627",
   "metadata": {},
   "outputs": [
    {
     "name": "stdout",
     "output_type": "stream",
     "text": [
      "Mean: 6.5\n"
     ]
    }
   ],
   "source": [
    "dataset = [1, 23, 3, 5, 2, 5]\n",
    "sum_of_dataset = sum(dataset)\n",
    "total_ele = len(dataset)\n",
    "mean = sum_of_dataset/total_ele\n",
    "print(f\"Mean: {mean}\")"
   ]
  },
  {
   "cell_type": "code",
   "execution_count": 18,
   "id": "0debb822",
   "metadata": {},
   "outputs": [
    {
     "data": {
      "text/plain": [
       "6.5"
      ]
     },
     "execution_count": 18,
     "metadata": {},
     "output_type": "execute_result"
    }
   ],
   "source": [
    "# Using statistics module\n",
    "statistics.mean(dataset)"
   ]
  },
  {
   "cell_type": "markdown",
   "id": "940b54da",
   "metadata": {},
   "source": [
    "#### Variability\n",
    "<p style=\"text-align: justify; text-justify: inter-word;\">\n",
    "   <font size=3>\n",
    "       Variability describes how far apart data points lies from each other and from the center of distribution. \n",
    "       Variability also reffered to as spread, scatter or dispersion. It is commonly measure with <i>Range</i>\n",
    "       <i>Interquartile Range</i>, <i>Standard Deviation</i> and <i>Variance</i><br><br>\n",
    "       <b>Standard deviation</b> is expressed in the same units as the original values (e.g., meters).<br>\n",
    "       <b>Variance is expressed</b> in much larger units (e.g., meters squared)<br>\n",
    "   </font>\n",
    "</p>\n",
    "\n"
   ]
  },
  {
   "cell_type": "markdown",
   "id": "762f4973",
   "metadata": {},
   "source": [
    "#### Stanard Deviation\n",
    "<p style=\"text-align: justify; text-justify: inter-word;\">\n",
    "   <font size=3>\n",
    "       Stanard Deviation helps us in measuring <i>variability</i> of your data set. It will tell us on average\n",
    "       how far each data point lies from the mean. A high standard deviation means that values are generally far\n",
    "       from the mean, while a low standard deviation indicates that values are clustered close to the mean\n",
    "   </font>\n",
    "</p>\n"
   ]
  },
  {
   "cell_type": "markdown",
   "id": "378e2b67",
   "metadata": {},
   "source": [
    "<p style=\"text-align: justify; text-justify: inter-word;\">\n",
    "   <font size=3>\n",
    "       <b>Formula</b>:<br>\n",
    "        $\\sigma = \\sqrt{\\frac{\\sum{(X}-{\\mu)}^2}{N}}$ <br><br>\n",
    "        where,<br>\n",
    "        $\\sigma$, is Stardard Deviation,<br>\n",
    "        $\\sum$, sum of<br>\n",
    "        $\\mu$, mean <br>\n",
    "        $X$, Each value,<br>\n",
    "        $N$, Number of values in the data set\n",
    "   </font>\n",
    "</p>"
   ]
  },
  {
   "cell_type": "code",
   "execution_count": 27,
   "id": "2a92588b",
   "metadata": {},
   "outputs": [
    {
     "name": "stdout",
     "output_type": "stream",
     "text": [
      "Diff: [-35. -25. -15.  -5.   5.  15.  25.  35.]\n"
     ]
    },
    {
     "data": {
      "text/plain": [
       "array([1225.,  625.,  225.,   25.,   25.,  225.,  625., 1225.])"
      ]
     },
     "execution_count": 27,
     "metadata": {},
     "output_type": "execute_result"
    }
   ],
   "source": [
    "dataset = [10, 20, 30, 40, 50, 60, 70, 80]\n",
    "mean = np.mean(dataset)\n",
    "diff = dataset-mean\n",
    "print(F\"Diff: {diff}\")\n",
    "squared = diff**2\n",
    "squared"
   ]
  },
  {
   "cell_type": "code",
   "execution_count": 29,
   "id": "5c0550fc",
   "metadata": {},
   "outputs": [
    {
     "name": "stdout",
     "output_type": "stream",
     "text": [
      "sandard_devation = 22.9128784747792\n"
     ]
    }
   ],
   "source": [
    "sandard_devation = np.sqrt(sum(squared)/len(squared))\n",
    "print(F\"{sandard_devation = }\")"
   ]
  },
  {
   "cell_type": "code",
   "execution_count": 25,
   "id": "57f4d2ef",
   "metadata": {},
   "outputs": [
    {
     "data": {
      "text/plain": [
       "22.9128784747792"
      ]
     },
     "execution_count": 25,
     "metadata": {},
     "output_type": "execute_result"
    }
   ],
   "source": [
    "# Using numpy\n",
    "np.std(dataset)"
   ]
  },
  {
   "cell_type": "code",
   "execution_count": 26,
   "id": "4a14a699",
   "metadata": {},
   "outputs": [
    {
     "data": {
      "text/plain": [
       "24.49489742783178"
      ]
     },
     "execution_count": 26,
     "metadata": {},
     "output_type": "execute_result"
    }
   ],
   "source": [
    "# here they are using \"Sample standard deviation\" formula. so in the denominator it is N-1 not N in the formula\n",
    "statistics.stdev(dataset)"
   ]
  },
  {
   "cell_type": "markdown",
   "id": "0beead3f",
   "metadata": {},
   "source": [
    "#### Variance"
   ]
  },
  {
   "cell_type": "markdown",
   "id": "6bee22ee",
   "metadata": {},
   "source": [
    "<p style=\"text-align: justify; text-justify: inter-word;\">\n",
    "   <font size=3>\n",
    "       The variance is average of squared deviation from the mean. Variance tells you the degree of spread in your data set. The more spread the data, the larger the variance is in relation to the mean.\n",
    "   </font>\n",
    "</p>"
   ]
  },
  {
   "cell_type": "markdown",
   "id": "a007de2b",
   "metadata": {},
   "source": [
    "<p style=\"text-align: justify; text-justify: inter-word;\">\n",
    "   <font size=3>\n",
    "        <b>Formula</b>:<br>\n",
    "        $\\sigma^2 = \\frac{\\sum{(X}-{\\mu)}^2}{N}$ <br><br>\n",
    "        where,<br>\n",
    "        $\\sigma^2$, is a Variance,<br>\n",
    "        $\\sum$, sum of<br>\n",
    "        $\\mu$, mean <br>\n",
    "        $X$, Each value,<br>\n",
    "        $N$, Number of values in the data set\n",
    "   </font>\n",
    "</p>\n"
   ]
  },
  {
   "cell_type": "code",
   "execution_count": 34,
   "id": "270be0c3",
   "metadata": {},
   "outputs": [
    {
     "name": "stdout",
     "output_type": "stream",
     "text": [
      "diff = array([-35., -25., -15.,  -5.,   5.,  15.,  25.,  35.])\n"
     ]
    },
    {
     "data": {
      "text/plain": [
       "array([1225.,  625.,  225.,   25.,   25.,  225.,  625., 1225.])"
      ]
     },
     "execution_count": 34,
     "metadata": {},
     "output_type": "execute_result"
    }
   ],
   "source": [
    "dataset = np.array([10, 20, 30, 40, 50, 60, 70, 80])\n",
    "mean = np.mean(dataset)\n",
    "diff = dataset - mean\n",
    "print(f\"{diff = }\")\n",
    "squared = diff**2\n",
    "squared"
   ]
  },
  {
   "cell_type": "code",
   "execution_count": 31,
   "id": "334868a7",
   "metadata": {},
   "outputs": [
    {
     "data": {
      "text/plain": [
       "525.0"
      ]
     },
     "execution_count": 31,
     "metadata": {},
     "output_type": "execute_result"
    }
   ],
   "source": [
    "variance = sum(squared)/len(squared)\n",
    "variance"
   ]
  },
  {
   "cell_type": "code",
   "execution_count": 32,
   "id": "6bad0a91",
   "metadata": {},
   "outputs": [
    {
     "data": {
      "text/plain": [
       "525.0"
      ]
     },
     "execution_count": 32,
     "metadata": {},
     "output_type": "execute_result"
    }
   ],
   "source": [
    "np.var(dataset)"
   ]
  },
  {
   "cell_type": "code",
   "execution_count": 35,
   "id": "f339c404",
   "metadata": {},
   "outputs": [
    {
     "data": {
      "text/plain": [
       "600"
      ]
     },
     "execution_count": 35,
     "metadata": {},
     "output_type": "execute_result"
    }
   ],
   "source": [
    "statistics.variance(dataset)"
   ]
  },
  {
   "cell_type": "code",
   "execution_count": null,
   "id": "76d2c108",
   "metadata": {},
   "outputs": [],
   "source": []
  }
 ],
 "metadata": {
  "kernelspec": {
   "display_name": "Python 3 (ipykernel)",
   "language": "python",
   "name": "python3"
  },
  "language_info": {
   "codemirror_mode": {
    "name": "ipython",
    "version": 3
   },
   "file_extension": ".py",
   "mimetype": "text/x-python",
   "name": "python",
   "nbconvert_exporter": "python",
   "pygments_lexer": "ipython3",
   "version": "3.11.2"
  }
 },
 "nbformat": 4,
 "nbformat_minor": 5
}
